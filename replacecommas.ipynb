{
 "cells": [
  {
   "cell_type": "code",
   "execution_count": 93,
   "id": "413e8f1c",
   "metadata": {},
   "outputs": [],
   "source": [
    "import pandas as pd\n",
    "import numpy as np"
   ]
  },
  {
   "cell_type": "code",
   "execution_count": 94,
   "id": "e4b0a7a7",
   "metadata": {},
   "outputs": [],
   "source": [
    "i = 16"
   ]
  },
  {
   "cell_type": "code",
   "execution_count": 101,
   "id": "75b9531a",
   "metadata": {},
   "outputs": [],
   "source": [
    "for _, i in enumerate(range(17, 57)):\n",
    "    data = pd.read_csv(\"D:\\\\vipin\\\\notebooks\\\\product\\\\nameSize\" + str(i) + \".csv\", header=None, names=['name', 'size'])\n",
    "    # replace ',' with '-'\n",
    "    data = data.apply(lambda x: x.replace(\",\", \"-\", regex=True) if not x.empty else x)\n",
    "    data.to_csv('product\\\\nameSize' + str(i) + '.csv', index=None, header=None)"
   ]
  },
  {
   "cell_type": "markdown",
   "id": "a8a8905e",
   "metadata": {},
   "source": [
    "data = pd.read_csv(\"D:\\\\vipin\\\\notebooks\\\\product\\\\nameSize\" + str(i) + \".csv\", header=None, names=['name', 'size'])\n",
    "data.head()"
   ]
  },
  {
   "cell_type": "markdown",
   "id": "3d5a9e5c",
   "metadata": {},
   "source": [
    "# replace ',' with '-'\n",
    "data = data.apply(lambda x: x.replace(\",\", \"-\", regex=True) if not x.empty else x)\n",
    "data"
   ]
  },
  {
   "cell_type": "markdown",
   "id": "f774114a",
   "metadata": {},
   "source": [
    "data.to_csv('product\\\\nameSize' + str(i) + '.csv', index=None, header=None)"
   ]
  },
  {
   "cell_type": "code",
   "execution_count": null,
   "id": "66c39f23",
   "metadata": {},
   "outputs": [],
   "source": []
  }
 ],
 "metadata": {
  "kernelspec": {
   "display_name": "Python 3 (ipykernel)",
   "language": "python",
   "name": "python3"
  },
  "language_info": {
   "codemirror_mode": {
    "name": "ipython",
    "version": 3
   },
   "file_extension": ".py",
   "mimetype": "text/x-python",
   "name": "python",
   "nbconvert_exporter": "python",
   "pygments_lexer": "ipython3",
   "version": "3.9.12"
  }
 },
 "nbformat": 4,
 "nbformat_minor": 5
}
