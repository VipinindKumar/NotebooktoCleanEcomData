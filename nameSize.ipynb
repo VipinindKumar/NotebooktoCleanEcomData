{
 "cells": [
  {
   "cell_type": "code",
   "execution_count": 502,
   "id": "6fcc811b",
   "metadata": {},
   "outputs": [],
   "source": [
    "import pandas as pd\n",
    "import numpy as np"
   ]
  },
  {
   "cell_type": "code",
   "execution_count": 503,
   "id": "634008f9",
   "metadata": {},
   "outputs": [],
   "source": [
    "i = 56"
   ]
  },
  {
   "cell_type": "code",
   "execution_count": 504,
   "id": "b1753893",
   "metadata": {},
   "outputs": [
    {
     "data": {
      "text/html": [
       "<div>\n",
       "<style scoped>\n",
       "    .dataframe tbody tr th:only-of-type {\n",
       "        vertical-align: middle;\n",
       "    }\n",
       "\n",
       "    .dataframe tbody tr th {\n",
       "        vertical-align: top;\n",
       "    }\n",
       "\n",
       "    .dataframe thead th {\n",
       "        text-align: right;\n",
       "    }\n",
       "</style>\n",
       "<table border=\"1\" class=\"dataframe\">\n",
       "  <thead>\n",
       "    <tr style=\"text-align: right;\">\n",
       "      <th></th>\n",
       "      <th>name</th>\n",
       "    </tr>\n",
       "  </thead>\n",
       "  <tbody>\n",
       "    <tr>\n",
       "      <th>0</th>\n",
       "      <td>Banarasi Kurta, Tulip pant Chiffon Dupatta, Ye...</td>\n",
       "    </tr>\n",
       "    <tr>\n",
       "      <th>1</th>\n",
       "      <td>Purple Satin Blouse padded (V neck), Black blo...</td>\n",
       "    </tr>\n",
       "    <tr>\n",
       "      <th>2</th>\n",
       "      <td>Black Sari conversion to Crop top &amp; Skirt</td>\n",
       "    </tr>\n",
       "    <tr>\n",
       "      <th>3</th>\n",
       "      <td>Golden mermaid sari and blouse (Lata-Jaanvi)</td>\n",
       "    </tr>\n",
       "    <tr>\n",
       "      <th>4</th>\n",
       "      <td>Saree Conversion into Gown and 3 dresses</td>\n",
       "    </tr>\n",
       "  </tbody>\n",
       "</table>\n",
       "</div>"
      ],
      "text/plain": [
       "                                                name\n",
       "0  Banarasi Kurta, Tulip pant Chiffon Dupatta, Ye...\n",
       "1  Purple Satin Blouse padded (V neck), Black blo...\n",
       "2          Black Sari conversion to Crop top & Skirt\n",
       "3       Golden mermaid sari and blouse (Lata-Jaanvi)\n",
       "4          Saree Conversion into Gown and 3 dresses "
      ]
     },
     "execution_count": 504,
     "metadata": {},
     "output_type": "execute_result"
    }
   ],
   "source": [
    "data = pd.read_csv(\"product.csv\", names=['name'], sep=\"~\")\n",
    "data.head()"
   ]
  },
  {
   "cell_type": "code",
   "execution_count": 505,
   "id": "3c50d4d0",
   "metadata": {},
   "outputs": [],
   "source": [
    "# splits around >\n",
    "# data = data.name.str.split(pat='>', expand=True, n=-1).drop(1, 1)\n",
    "# data.head()"
   ]
  },
  {
   "cell_type": "code",
   "execution_count": 506,
   "id": "233ea051",
   "metadata": {},
   "outputs": [
    {
     "data": {
      "text/html": [
       "<div>\n",
       "<style scoped>\n",
       "    .dataframe tbody tr th:only-of-type {\n",
       "        vertical-align: middle;\n",
       "    }\n",
       "\n",
       "    .dataframe tbody tr th {\n",
       "        vertical-align: top;\n",
       "    }\n",
       "\n",
       "    .dataframe thead th {\n",
       "        text-align: right;\n",
       "    }\n",
       "</style>\n",
       "<table border=\"1\" class=\"dataframe\">\n",
       "  <thead>\n",
       "    <tr style=\"text-align: right;\">\n",
       "      <th></th>\n",
       "      <th>0</th>\n",
       "      <th>1</th>\n",
       "    </tr>\n",
       "  </thead>\n",
       "  <tbody>\n",
       "    <tr>\n",
       "      <th>0</th>\n",
       "      <td>Banarasi Kurta, Tulip pant Chiffon Dupatta, Ye...</td>\n",
       "      <td>None</td>\n",
       "    </tr>\n",
       "    <tr>\n",
       "      <th>1</th>\n",
       "      <td>Purple Satin Blouse padded</td>\n",
       "      <td>V neck), Black blouse alteration</td>\n",
       "    </tr>\n",
       "    <tr>\n",
       "      <th>2</th>\n",
       "      <td>Black Sari conversion to Crop top &amp; Skirt</td>\n",
       "      <td>None</td>\n",
       "    </tr>\n",
       "    <tr>\n",
       "      <th>3</th>\n",
       "      <td>Golden mermaid sari and blouse</td>\n",
       "      <td>Lata-Jaanvi)</td>\n",
       "    </tr>\n",
       "    <tr>\n",
       "      <th>4</th>\n",
       "      <td>Saree Conversion into Gown and 3 dresses</td>\n",
       "      <td>None</td>\n",
       "    </tr>\n",
       "  </tbody>\n",
       "</table>\n",
       "</div>"
      ],
      "text/plain": [
       "                                                   0  \\\n",
       "0  Banarasi Kurta, Tulip pant Chiffon Dupatta, Ye...   \n",
       "1                        Purple Satin Blouse padded    \n",
       "2          Black Sari conversion to Crop top & Skirt   \n",
       "3                    Golden mermaid sari and blouse    \n",
       "4          Saree Conversion into Gown and 3 dresses    \n",
       "\n",
       "                                  1  \n",
       "0                              None  \n",
       "1  V neck), Black blouse alteration  \n",
       "2                              None  \n",
       "3                      Lata-Jaanvi)  \n",
       "4                              None  "
      ]
     },
     "execution_count": 506,
     "metadata": {},
     "output_type": "execute_result"
    }
   ],
   "source": [
    "# splits around (\n",
    "data = data.name.str.split(pat='(', expand=True, n=1)\n",
    "data.head()"
   ]
  },
  {
   "cell_type": "code",
   "execution_count": 507,
   "id": "bed18468",
   "metadata": {},
   "outputs": [],
   "source": [
    "# remove first occurence of ) from last col\n",
    "data[1] = data[1].apply(lambda x: x.replace(\")\",\"\",1) if x != None else x)"
   ]
  },
  {
   "cell_type": "markdown",
   "id": "9aabca24",
   "metadata": {},
   "source": [
    "### Remove all the occurrence of \" and ' form the columns"
   ]
  },
  {
   "cell_type": "code",
   "execution_count": 508,
   "id": "f301b094",
   "metadata": {},
   "outputs": [
    {
     "data": {
      "text/html": [
       "<div>\n",
       "<style scoped>\n",
       "    .dataframe tbody tr th:only-of-type {\n",
       "        vertical-align: middle;\n",
       "    }\n",
       "\n",
       "    .dataframe tbody tr th {\n",
       "        vertical-align: top;\n",
       "    }\n",
       "\n",
       "    .dataframe thead th {\n",
       "        text-align: right;\n",
       "    }\n",
       "</style>\n",
       "<table border=\"1\" class=\"dataframe\">\n",
       "  <thead>\n",
       "    <tr style=\"text-align: right;\">\n",
       "      <th></th>\n",
       "      <th>0</th>\n",
       "      <th>1</th>\n",
       "    </tr>\n",
       "  </thead>\n",
       "  <tbody>\n",
       "    <tr>\n",
       "      <th>0</th>\n",
       "      <td>Banarasi Kurta, Tulip pant Chiffon Dupatta, Ye...</td>\n",
       "      <td>None</td>\n",
       "    </tr>\n",
       "    <tr>\n",
       "      <th>1</th>\n",
       "      <td>Purple Satin Blouse padded</td>\n",
       "      <td>V neck, Black blouse alteration</td>\n",
       "    </tr>\n",
       "    <tr>\n",
       "      <th>2</th>\n",
       "      <td>Black Sari conversion to Crop top &amp; Skirt</td>\n",
       "      <td>None</td>\n",
       "    </tr>\n",
       "    <tr>\n",
       "      <th>3</th>\n",
       "      <td>Golden mermaid sari and blouse</td>\n",
       "      <td>Lata-Jaanvi</td>\n",
       "    </tr>\n",
       "    <tr>\n",
       "      <th>4</th>\n",
       "      <td>Saree Conversion into Gown and 3 dresses</td>\n",
       "      <td>None</td>\n",
       "    </tr>\n",
       "  </tbody>\n",
       "</table>\n",
       "</div>"
      ],
      "text/plain": [
       "                                                   0  \\\n",
       "0  Banarasi Kurta, Tulip pant Chiffon Dupatta, Ye...   \n",
       "1                        Purple Satin Blouse padded    \n",
       "2          Black Sari conversion to Crop top & Skirt   \n",
       "3                    Golden mermaid sari and blouse    \n",
       "4          Saree Conversion into Gown and 3 dresses    \n",
       "\n",
       "                                 1  \n",
       "0                             None  \n",
       "1  V neck, Black blouse alteration  \n",
       "2                             None  \n",
       "3                      Lata-Jaanvi  \n",
       "4                             None  "
      ]
     },
     "execution_count": 508,
     "metadata": {},
     "output_type": "execute_result"
    }
   ],
   "source": [
    "data[1] = data[1].apply(lambda x: x.translate(dict.fromkeys(map(ord, u\"\\'\\\"\"))) if x != None else x)\n",
    "data.head()"
   ]
  },
  {
   "cell_type": "code",
   "execution_count": 509,
   "id": "5cba7367",
   "metadata": {},
   "outputs": [],
   "source": [
    "data.to_csv('product\\\\nameSize' + str(i) + '.csv', index=None, header=None)"
   ]
  },
  {
   "cell_type": "code",
   "execution_count": null,
   "id": "cc0d6141",
   "metadata": {},
   "outputs": [],
   "source": []
  }
 ],
 "metadata": {
  "kernelspec": {
   "display_name": "Python 3 (ipykernel)",
   "language": "python",
   "name": "python3"
  },
  "language_info": {
   "codemirror_mode": {
    "name": "ipython",
    "version": 3
   },
   "file_extension": ".py",
   "mimetype": "text/x-python",
   "name": "python",
   "nbconvert_exporter": "python",
   "pygments_lexer": "ipython3",
   "version": "3.9.12"
  }
 },
 "nbformat": 4,
 "nbformat_minor": 5
}
